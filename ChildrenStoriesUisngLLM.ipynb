{
  "nbformat": 4,
  "nbformat_minor": 0,
  "metadata": {
    "colab": {
      "provenance": [],
      "gpuType": "T4",
      "authorship_tag": "ABX9TyMIbnR5K7dAJ66QaxXMy+NC",
      "include_colab_link": true
    },
    "kernelspec": {
      "name": "python3",
      "display_name": "Python 3"
    },
    "language_info": {
      "name": "python"
    },
    "accelerator": "GPU"
  },
  "cells": [
    {
      "cell_type": "markdown",
      "metadata": {
        "id": "view-in-github",
        "colab_type": "text"
      },
      "source": [
        "<a href=\"https://colab.research.google.com/github/ahmeda335/Stories-Using-LLMs/blob/main/ChildrenStoriesUisngLLM.ipynb\" target=\"_parent\"><img src=\"https://colab.research.google.com/assets/colab-badge.svg\" alt=\"Open In Colab\"/></a>"
      ]
    },
    {
      "cell_type": "markdown",
      "source": [
        "# Creating English And Arabic Stories Using LLMs 😎."
      ],
      "metadata": {
        "id": "G6xHcDuPNowp"
      }
    },
    {
      "cell_type": "markdown",
      "source": [
        "⚡ Installing required packages."
      ],
      "metadata": {
        "id": "gMZ__A25Pfai"
      }
    },
    {
      "cell_type": "code",
      "execution_count": 1,
      "metadata": {
        "colab": {
          "base_uri": "https://localhost:8080/"
        },
        "id": "FIo7f3Bdb7Wd",
        "outputId": "06d1b990-c189-405b-e861-9d4c1040c07f"
      },
      "outputs": [
        {
          "output_type": "stream",
          "name": "stdout",
          "text": [
            "\u001b[?25l   \u001b[90m━━━━━━━━━━━━━━━━━━━━━━━━━━━━━━━━━━━━━━━━\u001b[0m \u001b[32m0.0/244.3 kB\u001b[0m \u001b[31m?\u001b[0m eta \u001b[36m-:--:--\u001b[0m\r\u001b[2K   \u001b[91m━━━━━━━━━━━━━━━━━━━━━━━━━━━━━━━━━━━━━━\u001b[0m\u001b[91m╸\u001b[0m\u001b[90m━\u001b[0m \u001b[32m235.5/244.3 kB\u001b[0m \u001b[31m9.2 MB/s\u001b[0m eta \u001b[36m0:00:01\u001b[0m\r\u001b[2K   \u001b[90m━━━━━━━━━━━━━━━━━━━━━━━━━━━━━━━━━━━━━━━━\u001b[0m \u001b[32m244.3/244.3 kB\u001b[0m \u001b[31m6.6 MB/s\u001b[0m eta \u001b[36m0:00:00\u001b[0m\n",
            "\u001b[?25h  Preparing metadata (setup.py) ... \u001b[?25l\u001b[?25hdone\n",
            "\u001b[2K   \u001b[90m━━━━━━━━━━━━━━━━━━━━━━━━━━━━━━━━━━━━━━━━\u001b[0m \u001b[32m55.1/55.1 kB\u001b[0m \u001b[31m5.4 MB/s\u001b[0m eta \u001b[36m0:00:00\u001b[0m\n",
            "\u001b[2K   \u001b[90m━━━━━━━━━━━━━━━━━━━━━━━━━━━━━━━━━━━━━━━━\u001b[0m \u001b[32m133.4/133.4 kB\u001b[0m \u001b[31m9.4 MB/s\u001b[0m eta \u001b[36m0:00:00\u001b[0m\n",
            "\u001b[2K   \u001b[90m━━━━━━━━━━━━━━━━━━━━━━━━━━━━━━━━━━━━━━━━\u001b[0m \u001b[32m42.6/42.6 kB\u001b[0m \u001b[31m3.9 MB/s\u001b[0m eta \u001b[36m0:00:00\u001b[0m\n",
            "\u001b[2K   \u001b[90m━━━━━━━━━━━━━━━━━━━━━━━━━━━━━━━━━━━━━━━━\u001b[0m \u001b[32m58.8/58.8 kB\u001b[0m \u001b[31m5.7 MB/s\u001b[0m eta \u001b[36m0:00:00\u001b[0m\n",
            "\u001b[2K   \u001b[90m━━━━━━━━━━━━━━━━━━━━━━━━━━━━━━━━━━━━━━━━\u001b[0m \u001b[32m65.0/65.0 kB\u001b[0m \u001b[31m6.4 MB/s\u001b[0m eta \u001b[36m0:00:00\u001b[0m\n",
            "\u001b[2K   \u001b[90m━━━━━━━━━━━━━━━━━━━━━━━━━━━━━━━━━━━━━━━━\u001b[0m \u001b[32m1.2/1.2 MB\u001b[0m \u001b[31m42.9 MB/s\u001b[0m eta \u001b[36m0:00:00\u001b[0m\n",
            "\u001b[2K   \u001b[90m━━━━━━━━━━━━━━━━━━━━━━━━━━━━━━━━━━━━━━━━\u001b[0m \u001b[32m53.6/53.6 kB\u001b[0m \u001b[31m5.0 MB/s\u001b[0m eta \u001b[36m0:00:00\u001b[0m\n",
            "\u001b[?25h  Building wheel for googletrans (setup.py) ... \u001b[?25l\u001b[?25hdone\n"
          ]
        }
      ],
      "source": [
        "!pip install -q -U google-generativeai\n",
        "!pip install -q python-docx\n",
        "!pip install -q googletrans==4.0.0-rc1"
      ]
    },
    {
      "cell_type": "markdown",
      "source": [
        "⚡ Importing required libraries."
      ],
      "metadata": {
        "id": "vZKIz0sKQCst"
      }
    },
    {
      "cell_type": "code",
      "source": [
        "import google.generativeai as genai\n",
        "import os\n",
        "import json\n",
        "import random\n",
        "import time\n",
        "\n",
        "import requests\n",
        "import io\n",
        "from PIL import Image\n",
        "from IPython.display import display\n",
        "\n",
        "from huggingface_hub import login, HfApi\n",
        "from tenacity import retry, wait_random_exponential, stop_after_attempt"
      ],
      "metadata": {
        "id": "q0HIXKztcHGr"
      },
      "execution_count": 2,
      "outputs": []
    },
    {
      "cell_type": "markdown",
      "source": [
        "***Your Gemini-API-Key***<br>\n",
        "⚡ In the case of you are using colab, you can set your API-KEY in this way in the cell. If You are using any other development environment or cURL in the terminal it is preferred to put the API-KEY in an environment variable as shown in the next cell. <br>\n",
        "⚡ As I am using colab I will use the first method.\n",
        "\n",
        "You can get your Gemini API Key from here --> https://aistudio.google.com/app/apikey"
      ],
      "metadata": {
        "id": "GCBTAMZ8QWAS"
      }
    },
    {
      "cell_type": "code",
      "source": [
        "from google.colab import userdata\n",
        "API_KEY = userdata.get('GEMINI-API-KEY')"
      ],
      "metadata": {
        "id": "Ja2UJK9gcSmV"
      },
      "execution_count": 3,
      "outputs": []
    },
    {
      "cell_type": "markdown",
      "source": [
        "⚡ If you don't use google colab."
      ],
      "metadata": {
        "id": "ecRe9JnvQ3jP"
      }
    },
    {
      "cell_type": "code",
      "source": [
        "# from dotenv import load_dotenv\n",
        "# load_dotenv()\n",
        "\n",
        "# !export GEMINI-API-KEY = <YOUR_API_KEY>   # Replace '<YOUR_API_KEY>' with you API-KEY. If you are using the terminal don't use '!' before 'export'.\n",
        "# API_KEY = os.getenv('GEMINI-API-KEY')"
      ],
      "metadata": {
        "id": "Sk18FigyQ2iK"
      },
      "execution_count": null,
      "outputs": []
    },
    {
      "cell_type": "markdown",
      "source": [
        "***Your Hugging Face token***<br>\n",
        "⚡ You can get your Hugging Face token from here --> https://huggingface.co/settings/tokens <br>\n",
        "⚡ You may need it in case of gated models."
      ],
      "metadata": {
        "id": "OqvwJmMbRElX"
      }
    },
    {
      "cell_type": "code",
      "source": [
        "# Getting my HF-TOKEN from secret section\n",
        "token= userdata.get('HF-TOKEN')\n",
        "login(token)\n",
        "\n",
        "# Create an instance of the HfApi class\n",
        "api = HfApi()\n",
        "\n",
        "# Get user information\n",
        "user_info = api.whoami()\n",
        "\n",
        "# Print user information to verify\n",
        "print(\"\\nYour account:\", user_info['name'])"
      ],
      "metadata": {
        "colab": {
          "base_uri": "https://localhost:8080/"
        },
        "id": "S4BoNSVgedB8",
        "outputId": "a40406e6-eda4-4012-816f-f7d0aba22e0a"
      },
      "execution_count": 4,
      "outputs": [
        {
          "output_type": "stream",
          "name": "stdout",
          "text": [
            "The token has not been saved to the git credentials helper. Pass `add_to_git_credential=True` in this function directly or `--add-to-git-credential` if using via `huggingface-cli` if you want to set the git credential as well.\n",
            "Token is valid (permission: write).\n",
            "Your token has been saved to /root/.cache/huggingface/token\n",
            "Login successful\n",
            "\n",
            "Your account: ahmeda335\n"
          ]
        },
        {
          "output_type": "stream",
          "name": "stderr",
          "text": [
            "/usr/local/lib/python3.10/dist-packages/huggingface_hub/utils/_token.py:89: UserWarning: \n",
            "The secret `HF_TOKEN` does not exist in your Colab secrets.\n",
            "To authenticate with the Hugging Face Hub, create a token in your settings tab (https://huggingface.co/settings/tokens), set it as secret in your Google Colab and restart your session.\n",
            "You will be able to reuse this secret in all of your notebooks.\n",
            "Please note that authentication is recommended but still optional to access public models or datasets.\n",
            "  warnings.warn(\n"
          ]
        }
      ]
    },
    {
      "cell_type": "markdown",
      "source": [
        "⚡ Inferencing text-to-image model."
      ],
      "metadata": {
        "id": "Zl4ejN_iRq8H"
      }
    },
    {
      "cell_type": "code",
      "source": [
        "API_URL = \"https://api-inference.huggingface.co/models/black-forest-labs/FLUX.1-schnell\"\n",
        "headers = {\"Authorization\": f\"Bearer {token}\"}\n",
        "\n",
        "def query(payload):\n",
        "\tresponse = requests.post(API_URL, headers=headers, json=payload)\n",
        "\treturn response.content"
      ],
      "metadata": {
        "id": "5s-I_oWdfJa_"
      },
      "execution_count": 5,
      "outputs": []
    },
    {
      "cell_type": "markdown",
      "source": [
        "⚡ Creating a Gemini model with my token."
      ],
      "metadata": {
        "id": "60E8C8QtR23-"
      }
    },
    {
      "cell_type": "code",
      "source": [
        "genai.configure(api_key=API_KEY)\n",
        "model = genai.GenerativeModel('gemini-1.5-flash')"
      ],
      "metadata": {
        "id": "bfeMRAdncbtg"
      },
      "execution_count": 6,
      "outputs": []
    },
    {
      "cell_type": "markdown",
      "source": [
        "⚡ Places such that stories happen in."
      ],
      "metadata": {
        "id": "bAaYF3WLSCSQ"
      }
    },
    {
      "cell_type": "code",
      "source": [
        "# These are 100 places for the stories.\n",
        "places = [\n",
        "    \"Enchanted Forest\",\n",
        "    \"Magical Castle\",\n",
        "    \"Hidden Waterfall\",\n",
        "    \"Sunny Beach\",\n",
        "    \"Mysterious Cave\",\n",
        "    \"Ancient Pyramid\",\n",
        "    \"Space Station\",\n",
        "    \"Desert Oasis\",\n",
        "    \"Snowy Mountain\",\n",
        "    \"Underwater City\",\n",
        "    \"Secret Garden\",\n",
        "    \"Hot Air Balloon\",\n",
        "    \"Haunted Mansion\",\n",
        "    \"Rainforest Canopy\",\n",
        "    \"Floating Island\",\n",
        "    \"Mystical Temple\",\n",
        "    \"Forgotten Village\",\n",
        "    \"Giant's Playground\",\n",
        "    \"Pirate Ship\",\n",
        "    \"Candy Land\",\n",
        "    \"Dinosaur Valley\",\n",
        "    \"Crystal Cave\",\n",
        "    \"Lunar Base\",\n",
        "    \"Toy Workshop\",\n",
        "    \"Butterfly Meadow\",\n",
        "    \"Fairy Village\",\n",
        "    \"Coral Reef\",\n",
        "    \"Cloud Kingdom\",\n",
        "    \"Robot Factory\",\n",
        "    \"Ice Palace\",\n",
        "    \"Wishing Well\",\n",
        "    \"Dragon's Lair\",\n",
        "    \"Sunken Ship\",\n",
        "    \"Golden Desert\",\n",
        "    \"Mountainous Cliff\",\n",
        "    \"Echoing Canyon\",\n",
        "    \"Firefly Forest\",\n",
        "    \"Rainbow Bridge\",\n",
        "    \"Mystery Island\",\n",
        "    \"Secret Library\",\n",
        "    \"Clock Tower\",\n",
        "    \"Bamboo Grove\",\n",
        "    \"Bubblegum Swamp\",\n",
        "    \"Meteor Shower\",\n",
        "    \"Crystal Lake\",\n",
        "    \"Spooky Swamp\",\n",
        "    \"Treehouse Village\",\n",
        "    \"Windmill Farm\",\n",
        "    \"Time Traveler's Den\",\n",
        "    \"Magician's Workshop\",\n",
        "    \"Silver Mine\",\n",
        "    \"Floating Cloud\",\n",
        "    \"Northern Lights\",\n",
        "    \"Jungle Treehouse\",\n",
        "    \"Spaceport\",\n",
        "    \"River Rapids\",\n",
        "    \"Magic Carpet Ride\",\n",
        "    \"Lighthouse\",\n",
        "    \"Mossy Cave\",\n",
        "    \"Labyrinth\",\n",
        "    \"Gemstone Quarry\",\n",
        "    \"Volcano Crater\",\n",
        "    \"Wildflower Field\",\n",
        "    \"Candlelit Cave\",\n",
        "    \"Carousel Park\",\n",
        "    \"Penguin Island\",\n",
        "    \"Ancient Ruins\",\n",
        "    \"Moonlit Beach\",\n",
        "    \"Tropical Rainforest\",\n",
        "    \"Wizard's Tower\",\n",
        "    \"Polar Ice Cap\",\n",
        "    \"Fantasy Forest\",\n",
        "    \"Aurora Borealis\",\n",
        "    \"Dragon's Nest\",\n",
        "    \"Sandy Dunes\",\n",
        "    \"Glowing Grotto\",\n",
        "    \"Crystal Kingdom\",\n",
        "    \"Sunflower Field\",\n",
        "    \"Galactic Voyage\",\n",
        "    \"Frozen Tundra\",\n",
        "    \"Secret Passage\",\n",
        "    \"Thunderstorm Plains\",\n",
        "    \"Whispering Woods\",\n",
        "    \"Mermaid Lagoon\",\n",
        "    \"Iceberg\",\n",
        "    \"Pumpkin Patch\",\n",
        "    \"Fireworks Festival\",\n",
        "    \"Magical Market\",\n",
        "    \"Peppermint Lane\",\n",
        "    \"Whale Watching\",\n",
        "    \"Geyser Field\",\n",
        "    \"Charming Cottage\",\n",
        "    \"Eagle's Nest\",\n",
        "    \"Starry Sky\",\n",
        "    \"Marshmallow Meadow\",\n",
        "    \"Rocky Mountain Pass\",\n",
        "    \"Shooting Star Ridge\",\n",
        "    \"Cactus Canyon\",\n",
        "    \"Rolling Hills\",\n",
        "    \"Butterfly Garden\",\n",
        "    \"Treasure Cove\"\n",
        "]\n"
      ],
      "metadata": {
        "id": "MmRvTq0kmbG4"
      },
      "execution_count": 7,
      "outputs": []
    },
    {
      "cell_type": "code",
      "source": [
        "\n",
        "# Create a json format to store stories in a json file.\n",
        "english_stories = []\n",
        "arabic_stories = []\n",
        "\n",
        "# Create a folder for images if it doesn't exist.\n",
        "images_folder_path = '/content/images'\n",
        "if not os.path.exists(images_folder_path):\n",
        "    os.makedirs(images_folder_path)"
      ],
      "metadata": {
        "id": "ae-WPCo5hdKD"
      },
      "execution_count": 8,
      "outputs": []
    },
    {
      "cell_type": "code",
      "source": [
        "places_copy = places.copy()\n",
        "\n",
        "# Function to select a random place and remove it from the list\n",
        "def get_random_place(places_list):\n",
        "    if places_list:  # Check if the list is not empty\n",
        "        place = random.choice(places_list)  # Select a random place\n",
        "        places_list.remove(place)  # Remove the selected place from the list\n",
        "        return place\n",
        "    else:\n",
        "        return \"No more places left!\""
      ],
      "metadata": {
        "id": "_qmbusINProY"
      },
      "execution_count": 9,
      "outputs": []
    },
    {
      "cell_type": "markdown",
      "source": [
        "⚡ The main function."
      ],
      "metadata": {
        "id": "mAAB_MhDSLt2"
      }
    },
    {
      "cell_type": "code",
      "source": [
        "stories_num = 20\n",
        "counter = 1\n",
        "while counter <= stories_num:\n",
        "  # Getting a random place.\n",
        "  place = get_random_place(places_copy)\n",
        "  if place == \"No more places left!\":\n",
        "    break\n",
        "\n",
        "  try:\n",
        "    # Getting the story.\n",
        "    story = model.generate_content(f\"Write a story from 4 big paragraphs about a child boy called Ramy and his small sister called Lamia playing in the {place}. Using simple words for children.\")\n",
        "    # print(story.text)\n",
        "\n",
        "    # Getting the summarization of the story.\n",
        "    summary = model.generate_content(f\"Summarize the following story: {story.text}\")\n",
        "    # print(summary.text)\n",
        "\n",
        "    # Getting the title of the story\n",
        "    title = model.generate_content(f\"What is the title of the following story: '{story.text}'. Give only one title. The title could be: \")\n",
        "    # print(title.text)\n",
        "\n",
        "    # Getting the translation of the title.\n",
        "    arabic_title = model.generate_content(f\"Translate the following title to Arabic: '{title.text}'. The arabic title of {title.text} is: \")\n",
        "    # print(title.text)\n",
        "\n",
        "    # Getting translation of the story.\n",
        "    translation = model.generate_content(f\"Translate the following story to Arabic: '{story.text}'. Arabic translation is: \")\n",
        "    # print(translation.text)\n",
        "\n",
        "    # Sleeping for a minute each two tournamets because of limited tries in Gemini (15 inference/min).\n",
        "    if counter % 2 == 0:\n",
        "      time.sleep(60)\n",
        "\n",
        "    # Getting an image for the story.\n",
        "    try:\n",
        "      image_bytes = query({\n",
        "        \"inputs\": f\"{summary.text}. Such that the boy with red shirt and the girl with blue shirt and the characters are cartoonic.\",\n",
        "      })\n",
        "      # You can access the image with PIL.Image for example\n",
        "      @retry(wait=wait_random_exponential(multiplier=1, max=30), stop=stop_after_attempt(5)) # This line to retry the function each random time between 1 and 40 seconds with maximum 3 attempts. To increase the Robustness of the code.\n",
        "      def store_image(image_bytes):\n",
        "        image = Image.open(io.BytesIO(image_bytes))\n",
        "        # Save the image to the folder\n",
        "        image_save_path = os.path.join(images_folder_path, f'{counter}.jpg')\n",
        "        image.save(image_save_path)\n",
        "\n",
        "      store_image(image_bytes)\n",
        "      counter += 1\n",
        "\n",
        "    except Exception as e:\n",
        "      print(\"exception 1:\", e)\n",
        "      continue\n",
        "\n",
        "    # Storing the story in the json file.\n",
        "    story = {\n",
        "          \"number\": f\"{counter - 1}\",\n",
        "          \"story\": f\"{story.text}\",\n",
        "          \"summary\": f\"{summary.text}\",\n",
        "          \"title\": f\"{title.text}\",\n",
        "          \"arabic_title\": f\"{arabic_title.text}\",\n",
        "          \"translation\": f\"{translation.text}\",\n",
        "          \"story_place\": f\"{place}\",\n",
        "          }\n",
        "    english_stories.append(story)\n",
        "\n",
        "    # Save to JSON file.\n",
        "    with open('stories.json', 'w') as f:\n",
        "        json.dump(english_stories, f, indent=4)\n",
        "\n",
        "    print(f\"Story {counter - 1} saved successfully.\")\n",
        "\n",
        "  except Exception as e:\n",
        "    print(\"exception 2:\", e)\n",
        "    continue"
      ],
      "metadata": {
        "colab": {
          "base_uri": "https://localhost:8080/",
          "height": 399
        },
        "id": "KN8nP_UIcgCQ",
        "outputId": "0d1a5831-ee46-411d-8a1f-8d765ba7db06"
      },
      "execution_count": 10,
      "outputs": [
        {
          "output_type": "stream",
          "name": "stdout",
          "text": [
            "Story 1 saved successfully.\n",
            "Story 2 saved successfully.\n",
            "Story 3 saved successfully.\n",
            "Story 4 saved successfully.\n",
            "Story 5 saved successfully.\n",
            "Story 6 saved successfully.\n",
            "Story 7 saved successfully.\n",
            "Story 8 saved successfully.\n",
            "exception 2: Invalid operation: The `response.text` quick accessor requires the response to contain a valid `Part`, but none were returned. Please check the `candidate.safety_ratings` to determine if the response was blocked.\n",
            "Story 10 saved successfully.\n",
            "Story 11 saved successfully.\n",
            "exception 1: Invalid operation: The `response.text` quick accessor requires the response to contain a valid `Part`, but none were returned. Please check the `candidate.safety_ratings` to determine if the response was blocked.\n",
            "Story 12 saved successfully.\n",
            "Story 13 saved successfully.\n",
            "Story 14 saved successfully.\n",
            "Story 15 saved successfully.\n",
            "exception 1: Invalid operation: The `response.text` quick accessor requires the response to contain a valid `Part`, but none were returned. Please check the `candidate.safety_ratings` to determine if the response was blocked.\n",
            "Story 16 saved successfully.\n",
            "Story 17 saved successfully.\n",
            "Story 18 saved successfully.\n",
            "Story 19 saved successfully.\n",
            "Story 20 saved successfully.\n"
          ]
        }
      ]
    },
    {
      "cell_type": "code",
      "source": [],
      "metadata": {
        "id": "WhjPDJKLcKhp"
      },
      "execution_count": 10,
      "outputs": []
    },
    {
      "cell_type": "markdown",
      "source": [
        "### Putting both Arabic and English stories in word files."
      ],
      "metadata": {
        "id": "TL6J78TJSQdH"
      }
    },
    {
      "cell_type": "code",
      "source": [
        "from docx import Document\n",
        "from docx.shared import Inches\n",
        "from docx.shared import Pt\n",
        "from docx.enum.text import WD_ALIGN_PARAGRAPH, WD_PARAGRAPH_ALIGNMENT\n",
        "from docx.oxml import OxmlElement\n",
        "from docx.oxml.ns import qn\n",
        "from docx.enum.section import WD_SECTION_START, WD_ORIENTATION\n"
      ],
      "metadata": {
        "id": "1x9S-g7etCxZ"
      },
      "execution_count": 11,
      "outputs": []
    },
    {
      "cell_type": "code",
      "source": [
        "doc = Document()\n",
        "\n",
        "with open('stories.json', 'r') as f:\n",
        "    english_stories = json.load(f)\n",
        "\n",
        "for i in range(len(english_stories)):\n",
        "  heading1 = doc.add_heading(f\"{i + 1}\", level=1)\n",
        "  # Center the heading\n",
        "  heading1.alignment = WD_ALIGN_PARAGRAPH.CENTER\n",
        "  # Increase the font size\n",
        "  heading1.style.font.size = Pt(24)\n",
        "\n",
        "  heading2 = doc.add_heading(f\"The { english_stories[i]['story_place']}\", level=1)\n",
        "  # Center the heading\n",
        "  heading2.alignment = WD_ALIGN_PARAGRAPH.CENTER\n",
        "  # Increase the font size\n",
        "  heading2.style.font.size = Pt(24)\n",
        "\n",
        "  # Insert a line break directly after the heading\n",
        "  run = heading2.add_run()\n",
        "  run.add_break()\n",
        "\n",
        "  stories_num = english_stories[i]['number']\n",
        "  picture = doc.add_picture(f'/content/images/{stories_num}.jpg', width=Inches(3))\n",
        "  # Center the picture.\n",
        "  picture.alignment = WD_ALIGN_PARAGRAPH.CENTER\n",
        "\n",
        "  # Center the paragraph that contains the picture\n",
        "  last_paragraph = doc.paragraphs[-1]  # Get the last paragraph (where the picture was added)\n",
        "  last_paragraph.alignment = WD_ALIGN_PARAGRAPH.CENTER\n",
        "\n",
        "  paragraph = doc.add_paragraph(english_stories[i]['story'])\n",
        "  # paragraph.alignment = WD_ALIGN_PARAGRAPH.JUSTIFY  # Justify alignment\n",
        "\n",
        "   # Set the line spacing to 1.5\n",
        "  paragraph_format = paragraph.paragraph_format\n",
        "  paragraph_format.line_spacing = Pt(18)  # 1.5 lines\n",
        "\n",
        "  # # Center the paragraph horizontally\n",
        "  paragraph_format.alignment = WD_ALIGN_PARAGRAPH.CENTER\n",
        "\n",
        "  # # Modify the section properties for vertical alignment\n",
        "  # section = doc.sections[-1]  # Get the last section\n",
        "  # section.start_type = WD_SECTION_START.CONTINUOUS\n",
        "  # section.orientation = WD_ORIENTATION.PORTRAIT\n",
        "  # section.page_height = section.page_height\n",
        "  # section.page_width = section.page_width\n",
        "\n",
        "  # # Set vertical alignment to center\n",
        "  # section.vertical_alignment = WD_ALIGN_PARAGRAPH.CENTER\n",
        "\n",
        "\n",
        "\n",
        "  # Set space before and after the paragraph\n",
        "  paragraph_format.space_before = Pt(12)  # Space before the paragraph\n",
        "  paragraph_format.space_after = Pt(12)   # Space after the paragraph\n",
        "\n",
        "  # Set the font size and font type\n",
        "  for run in paragraph.runs:\n",
        "      run.font.size = Pt(12)           # Set the font size to 12 points\n",
        "      run.font.name = 'Cavolini'          # Set the font type to Arial\n",
        "  # if i != len(english_stories) - 1:\n",
        "  #   doc.add_page_break()\n",
        "\n"
      ],
      "metadata": {
        "id": "23G4ltBPQ2vO"
      },
      "execution_count": 12,
      "outputs": []
    },
    {
      "cell_type": "code",
      "source": [
        "# # Access the section where you want to add the border\n",
        "# section = doc.sections[0]\n",
        "\n",
        "# # Create the page border elements with dark blue and dashed lines\n",
        "# pgBorders = OxmlElement('w:pgBorders')\n",
        "# for border_name in ['top', 'left', 'bottom', 'right']:\n",
        "#     border = OxmlElement(f'w:{border_name}')\n",
        "#     border.set(qn('w:val'), 'dashed')   # Dashed line border\n",
        "#     border.set(qn('w:sz'), '12')        # Size of the border (adjust as needed)\n",
        "#     border.set(qn('w:space'), '24')     # Space between border and text\n",
        "#     border.set(qn('w:color'), '00008B') # Dark blue color (hex code: #00008B)\n",
        "#     pgBorders.append(border)\n",
        "\n",
        "# # Append the page borders to the section properties\n",
        "# section_properties = section._sectPr\n",
        "# section_properties.append(pgBorders)"
      ],
      "metadata": {
        "id": "jPh4MxbBgpmx"
      },
      "execution_count": 13,
      "outputs": []
    },
    {
      "cell_type": "code",
      "source": [
        "# Add a footer with page numbering\n",
        "section = doc.sections[0]\n",
        "footer = section.footer\n",
        "paragraph = footer.paragraphs[0]\n",
        "\n",
        "# Create the field code for page numbering\n",
        "field_code = 'PAGE  \\\\* MERGEFORMAT'\n",
        "run = paragraph.add_run()\n",
        "fldChar1 = OxmlElement('w:fldChar')\n",
        "fldChar1.set(qn('w:fldCharType'), 'begin')\n",
        "\n",
        "instrText = OxmlElement('w:instrText')\n",
        "instrText.set(qn('xml:space'), 'preserve')\n",
        "instrText.text = field_code\n",
        "\n",
        "fldChar2 = OxmlElement('w:fldChar')\n",
        "fldChar2.set(qn('w:fldCharType'), 'separate')\n",
        "\n",
        "fldChar3 = OxmlElement('w:t')\n",
        "fldChar3.text = \"1\"\n",
        "\n",
        "fldChar4 = OxmlElement('w:fldChar')\n",
        "fldChar4.set(qn('w:fldCharType'), 'end')\n",
        "\n",
        "run._r.append(fldChar1)\n",
        "run._r.append(instrText)\n",
        "run._r.append(fldChar2)\n",
        "run._r.append(fldChar3)\n",
        "run._r.append(fldChar4)\n",
        "\n",
        "# Center the footer paragraph\n",
        "paragraph.alignment = WD_ALIGN_PARAGRAPH.CENTER"
      ],
      "metadata": {
        "id": "Mex_D4aUfplw"
      },
      "execution_count": 14,
      "outputs": []
    },
    {
      "cell_type": "code",
      "source": [
        "doc.save('english_stories.docx')"
      ],
      "metadata": {
        "id": "phINcpJjcXt8"
      },
      "execution_count": 15,
      "outputs": []
    },
    {
      "cell_type": "code",
      "source": [],
      "metadata": {
        "id": "BhoWFCjofwy6"
      },
      "execution_count": 15,
      "outputs": []
    },
    {
      "cell_type": "code",
      "source": [],
      "metadata": {
        "collapsed": true,
        "id": "_xSZn_dvDm6l"
      },
      "execution_count": 15,
      "outputs": []
    },
    {
      "cell_type": "code",
      "source": [
        "from googletrans import Translator\n",
        "\n",
        "# Create a Translator object\n",
        "translator = Translator()\n",
        "\n",
        "doc2 = Document()\n",
        "\n",
        "with open('stories.json', 'r') as f:\n",
        "    english_stories = json.load(f)\n",
        "\n",
        "for i in range(len(english_stories)):\n",
        "  heading3 = doc2.add_heading(f\"{i + 1}\", level=1)\n",
        "  # Center the heading\n",
        "  heading3.alignment = WD_ALIGN_PARAGRAPH.CENTER\n",
        "  # Increase the font size\n",
        "  heading3.style.font.size = Pt(24)\n",
        "\n",
        "  heading4 = doc2.add_heading(f\"{ (translator.translate(english_stories[i]['story_place'], src='en', dest='ar').text)}\", level=1)\n",
        "  # Center the heading\n",
        "  heading4.alignment = WD_ALIGN_PARAGRAPH.CENTER\n",
        "  # Increase the font size\n",
        "  heading4.style.font.size = Pt(24)\n",
        "\n",
        "  # Insert a line break directly after the heading\n",
        "  run = heading4.add_run()\n",
        "  run.add_break()\n",
        "\n",
        "  stories_num = english_stories[i]['number']\n",
        "  picture2 = doc2.add_picture(f'/content/images/{stories_num}.jpg', width=Inches(3))\n",
        "  # Center the picture.\n",
        "  picture2.alignment = WD_ALIGN_PARAGRAPH.CENTER\n",
        "\n",
        "  # Center the paragraph that contains the picture\n",
        "  last_paragraph2 = doc2.paragraphs[-1]  # Get the last paragraph (where the picture was added)\n",
        "  last_paragraph2.alignment = WD_ALIGN_PARAGRAPH.CENTER\n",
        "\n",
        "  paragraph2 = doc2.add_paragraph(english_stories[i]['translation'])\n",
        "  # paragraph2.alignment = WD_ALIGN_PARAGRAPH.JUSTIFY  # Justify alignment\n",
        "\n",
        "  # Setting paragraph from right to left.\n",
        "  paragraph2.alignment = 2\n",
        "\n",
        "\n",
        "  # Set the line spacing to 1.5\n",
        "  paragraph_format = paragraph2.paragraph_format\n",
        "  paragraph_format.line_spacing = Pt(18)  # 1.5 lines\n",
        "\n",
        "  # # Center the paragraph horizontally\n",
        "  paragraph_format.alignment = WD_ALIGN_PARAGRAPH.CENTER\n",
        "\n",
        "  # # Modify the section properties for vertical alignment\n",
        "  # section = doc.sections[-1]  # Get the last section\n",
        "  # section.start_type = WD_SECTION_START.CONTINUOUS\n",
        "  # section.orientation = WD_ORIENTATION.PORTRAIT\n",
        "  # section.page_height = section.page_height\n",
        "  # section.page_width = section.page_width\n",
        "\n",
        "  # # Set vertical alignment to center\n",
        "  # section.vertical_alignment = WD_ALIGN_PARAGRAPH.CENTER\n",
        "\n",
        "  # Set space before and after the paragraph\n",
        "  paragraph_format.space_before = Pt(12)  # Space before the paragraph\n",
        "  paragraph_format.space_after = Pt(12)   # Space after the paragraph\n",
        "\n",
        "  # Set the font size and font type\n",
        "  for run in paragraph2.runs:\n",
        "      run.font.size = Pt(12)           # Set the font size to 12 points\n",
        "      run.font.name = 'Cascadia Mono'          # Set the font type to Arial\n",
        "  # if i != len(english_stories) - 1:\n",
        "  #   doc.add_page_break()"
      ],
      "metadata": {
        "id": "oLRRuBsrANUB"
      },
      "execution_count": 16,
      "outputs": []
    },
    {
      "cell_type": "code",
      "source": [
        "# Add a footer with page numbering\n",
        "section = doc2.sections[0]\n",
        "footer = section.footer\n",
        "paragraph = footer.paragraphs[0]\n",
        "\n",
        "# Create the field code for page numbering\n",
        "field_code = 'PAGE  \\\\* MERGEFORMAT'\n",
        "run = paragraph.add_run()\n",
        "fldChar1 = OxmlElement('w:fldChar')\n",
        "fldChar1.set(qn('w:fldCharType'), 'begin')\n",
        "\n",
        "instrText = OxmlElement('w:instrText')\n",
        "instrText.set(qn('xml:space'), 'preserve')\n",
        "instrText.text = field_code\n",
        "\n",
        "fldChar2 = OxmlElement('w:fldChar')\n",
        "fldChar2.set(qn('w:fldCharType'), 'separate')\n",
        "\n",
        "fldChar3 = OxmlElement('w:t')\n",
        "fldChar3.text = \"1\"\n",
        "\n",
        "fldChar4 = OxmlElement('w:fldChar')\n",
        "fldChar4.set(qn('w:fldCharType'), 'end')\n",
        "\n",
        "run._r.append(fldChar1)\n",
        "run._r.append(instrText)\n",
        "run._r.append(fldChar2)\n",
        "run._r.append(fldChar3)\n",
        "run._r.append(fldChar4)\n",
        "\n",
        "# Center the footer paragraph\n",
        "paragraph.alignment = WD_ALIGN_PARAGRAPH.CENTER"
      ],
      "metadata": {
        "id": "U7Sz9bIfGcMr"
      },
      "execution_count": null,
      "outputs": []
    },
    {
      "cell_type": "code",
      "source": [
        "doc2.save('arabic_stories.docx')"
      ],
      "metadata": {
        "id": "3kxE8UnrBiGd"
      },
      "execution_count": null,
      "outputs": []
    },
    {
      "cell_type": "code",
      "source": [],
      "metadata": {
        "id": "SoCnm9FpBmFG"
      },
      "execution_count": 18,
      "outputs": []
    }
  ]
}